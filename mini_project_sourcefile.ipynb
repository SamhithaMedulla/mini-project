{
  "nbformat": 4,
  "nbformat_minor": 0,
  "metadata": {
    "colab": {
      "provenance": [],
      "gpuType": "T4"
    },
    "kernelspec": {
      "name": "python3",
      "display_name": "Python 3"
    },
    "language_info": {
      "name": "python"
    },
    "accelerator": "GPU"
  },
  "cells": [
    {
      "cell_type": "code",
      "source": [
        "from google.colab import drive\n",
        "drive.mount('/content/drive')\n"
      ],
      "metadata": {
        "colab": {
          "base_uri": "https://localhost:8080/"
        },
        "id": "qf7AMVzD7XKV",
        "outputId": "599386c0-06f0-4abc-ab12-a92daf4b14df"
      },
      "execution_count": null,
      "outputs": [
        {
          "output_type": "stream",
          "name": "stdout",
          "text": [
            "Mounted at /content/drive\n"
          ]
        }
      ]
    },
    {
      "cell_type": "code",
      "source": [
        "%cd /content/SGL-Torch\n"
      ],
      "metadata": {
        "colab": {
          "base_uri": "https://localhost:8080/"
        },
        "id": "hzl5kfUV7zHE",
        "outputId": "ff6e3b54-88fc-49db-c218-bb7f57a0954b"
      },
      "execution_count": null,
      "outputs": [
        {
          "output_type": "stream",
          "name": "stdout",
          "text": [
            "/content/SGL-Torch\n"
          ]
        }
      ]
    },
    {
      "cell_type": "code",
      "source": [
        "!sed -i 's/from collections import Iterable/from collections.abc import Iterable/' reckit/util/decorators.py\n"
      ],
      "metadata": {
        "id": "XWaDpZ6070Vk"
      },
      "execution_count": null,
      "outputs": []
    },
    {
      "cell_type": "code",
      "source": [
        "!pip install cython\n"
      ],
      "metadata": {
        "colab": {
          "base_uri": "https://localhost:8080/"
        },
        "id": "t_LLSnIY7_re",
        "outputId": "53f4fce1-e970-4bd0-ae34-f4a6240b9a25"
      },
      "execution_count": null,
      "outputs": [
        {
          "output_type": "stream",
          "name": "stdout",
          "text": [
            "Requirement already satisfied: cython in /usr/local/lib/python3.11/dist-packages (3.0.12)\n"
          ]
        }
      ]
    },
    {
      "cell_type": "code",
      "source": [
        "!python local_compile_setup.py build_ext --inplace\n"
      ],
      "metadata": {
        "colab": {
          "base_uri": "https://localhost:8080/"
        },
        "id": "ctHpF6E_8Bu7",
        "outputId": "089d8e72-6aa8-4b37-96d7-52f61ba594e2"
      },
      "execution_count": null,
      "outputs": [
        {
          "output_type": "stream",
          "name": "stdout",
          "text": [
            "Warning: passing language='c++' to cythonize() is deprecated. Instead, put \"# distutils: language=c++\" in your .pyx or .pxd file(s)\n",
            "Compiling ./reckit/cython/random_choice.pyx because it changed.\n",
            "Compiling ./reckit/cython/eval_matrix.pyx because it changed.\n",
            "Compiling ./reckit/cython/tools.pyx because it changed.\n",
            "Compiling ./reckit/cython/sort.pyx because it changed.\n",
            "[1/4] Cythonizing ./reckit/cython/eval_matrix.pyx\n",
            "/usr/local/lib/python3.11/dist-packages/Cython/Compiler/Main.py:381: FutureWarning: Cython directive 'language_level' not set, using '3str' for now (Py3). This has changed from earlier releases! File: /content/SGL-Torch/reckit/cython/eval_matrix.pyx\n",
            "  tree = Parsing.p_module(s, pxd, full_module_name)\n",
            "[2/4] Cythonizing ./reckit/cython/random_choice.pyx\n",
            "/usr/local/lib/python3.11/dist-packages/Cython/Compiler/Main.py:381: FutureWarning: Cython directive 'language_level' not set, using '3str' for now (Py3). This has changed from earlier releases! File: /content/SGL-Torch/reckit/cython/random_choice.pyx\n",
            "  tree = Parsing.p_module(s, pxd, full_module_name)\n",
            "[3/4] Cythonizing ./reckit/cython/sort.pyx\n",
            "/usr/local/lib/python3.11/dist-packages/Cython/Compiler/Main.py:381: FutureWarning: Cython directive 'language_level' not set, using '3str' for now (Py3). This has changed from earlier releases! File: /content/SGL-Torch/reckit/cython/sort.pyx\n",
            "  tree = Parsing.p_module(s, pxd, full_module_name)\n",
            "[4/4] Cythonizing ./reckit/cython/tools.pyx\n",
            "/usr/local/lib/python3.11/dist-packages/Cython/Compiler/Main.py:381: FutureWarning: Cython directive 'language_level' not set, using '3str' for now (Py3). This has changed from earlier releases! File: /content/SGL-Torch/reckit/cython/tools.pyx\n",
            "  tree = Parsing.p_module(s, pxd, full_module_name)\n",
            "In file included from \u001b[01m\u001b[K/usr/local/lib/python3.11/dist-packages/numpy/_core/include/numpy/ndarraytypes.h:1909\u001b[m\u001b[K,\n",
            "                 from \u001b[01m\u001b[K/usr/local/lib/python3.11/dist-packages/numpy/_core/include/numpy/ndarrayobject.h:12\u001b[m\u001b[K,\n",
            "                 from \u001b[01m\u001b[K/usr/local/lib/python3.11/dist-packages/numpy/_core/include/numpy/arrayobject.h:5\u001b[m\u001b[K,\n",
            "                 from \u001b[01m\u001b[K./reckit/cython/random_choice.cpp:1280\u001b[m\u001b[K:\n",
            "\u001b[01m\u001b[K/usr/local/lib/python3.11/dist-packages/numpy/_core/include/numpy/npy_1_7_deprecated_api.h:17:2:\u001b[m\u001b[K \u001b[01;35m\u001b[Kwarning: \u001b[m\u001b[K#warning \"Using deprecated NumPy API, disable it with \" \"#define NPY_NO_DEPRECATED_API NPY_1_7_API_VERSION\" [\u001b[01;35m\u001b[K\u001b]8;;https://gcc.gnu.org/onlinedocs/gcc/Warning-Options.html#index-Wcpp\u0007-Wcpp\u001b]8;;\u0007\u001b[m\u001b[K]\n",
            "   17 | #\u001b[01;35m\u001b[Kwarning\u001b[m\u001b[K \"Using deprecated NumPy API, disable it with \" \\\n",
            "      |  \u001b[01;35m\u001b[K^~~~~~~\u001b[m\u001b[K\n",
            "In file included from \u001b[01m\u001b[K/usr/local/lib/python3.11/dist-packages/numpy/_core/include/numpy/ndarraytypes.h:1909\u001b[m\u001b[K,\n",
            "                 from \u001b[01m\u001b[K/usr/local/lib/python3.11/dist-packages/numpy/_core/include/numpy/ndarrayobject.h:12\u001b[m\u001b[K,\n",
            "                 from \u001b[01m\u001b[K/usr/local/lib/python3.11/dist-packages/numpy/_core/include/numpy/arrayobject.h:5\u001b[m\u001b[K,\n",
            "                 from \u001b[01m\u001b[K./reckit/cython/eval_matrix.cpp:1261\u001b[m\u001b[K:\n",
            "\u001b[01m\u001b[K/usr/local/lib/python3.11/dist-packages/numpy/_core/include/numpy/npy_1_7_deprecated_api.h:17:2:\u001b[m\u001b[K \u001b[01;35m\u001b[Kwarning: \u001b[m\u001b[K#warning \"Using deprecated NumPy API, disable it with \" \"#define NPY_NO_DEPRECATED_API NPY_1_7_API_VERSION\" [\u001b[01;35m\u001b[K\u001b]8;;https://gcc.gnu.org/onlinedocs/gcc/Warning-Options.html#index-Wcpp\u0007-Wcpp\u001b]8;;\u0007\u001b[m\u001b[K]\n",
            "   17 | #\u001b[01;35m\u001b[Kwarning\u001b[m\u001b[K \"Using deprecated NumPy API, disable it with \" \\\n",
            "      |  \u001b[01;35m\u001b[K^~~~~~~\u001b[m\u001b[K\n",
            "In file included from \u001b[01m\u001b[K/usr/local/lib/python3.11/dist-packages/numpy/_core/include/numpy/ndarraytypes.h:1909\u001b[m\u001b[K,\n",
            "                 from \u001b[01m\u001b[K/usr/local/lib/python3.11/dist-packages/numpy/_core/include/numpy/ndarrayobject.h:12\u001b[m\u001b[K,\n",
            "                 from \u001b[01m\u001b[K/usr/local/lib/python3.11/dist-packages/numpy/_core/include/numpy/arrayobject.h:5\u001b[m\u001b[K,\n",
            "                 from \u001b[01m\u001b[K./reckit/cython/sort.cpp:1261\u001b[m\u001b[K:\n",
            "\u001b[01m\u001b[K/usr/local/lib/python3.11/dist-packages/numpy/_core/include/numpy/npy_1_7_deprecated_api.h:17:2:\u001b[m\u001b[K \u001b[01;35m\u001b[Kwarning: \u001b[m\u001b[K#warning \"Using deprecated NumPy API, disable it with \" \"#define NPY_NO_DEPRECATED_API NPY_1_7_API_VERSION\" [\u001b[01;35m\u001b[K\u001b]8;;https://gcc.gnu.org/onlinedocs/gcc/Warning-Options.html#index-Wcpp\u0007-Wcpp\u001b]8;;\u0007\u001b[m\u001b[K]\n",
            "   17 | #\u001b[01;35m\u001b[Kwarning\u001b[m\u001b[K \"Using deprecated NumPy API, disable it with \" \\\n",
            "      |  \u001b[01;35m\u001b[K^~~~~~~\u001b[m\u001b[K\n"
          ]
        }
      ]
    },
    {
      "cell_type": "code",
      "source": [
        "!ls /content/drive/MyDrive/SGL-Torch/dataset/yelp2018\n"
      ],
      "metadata": {
        "colab": {
          "base_uri": "https://localhost:8080/"
        },
        "id": "z6sWKF6GBSGz",
        "outputId": "b9c70439-a83f-43ae-ead3-6072de200a3b"
      },
      "execution_count": null,
      "outputs": [
        {
          "output_type": "stream",
          "name": "stdout",
          "text": [
            "yelp2018.test  yelp2018.train\n"
          ]
        }
      ]
    },
    {
      "cell_type": "code",
      "source": [
        "!sed -i 's|os.path.join(data_dir, dataset)|\"/content/drive/MyDrive/SGL-Torch/dataset/yelp2018\"|' data/dataset.py\n"
      ],
      "metadata": {
        "id": "WOsFWCjzBkmf"
      },
      "execution_count": null,
      "outputs": []
    },
    {
      "cell_type": "code",
      "source": [
        "!sed -i '306s|.*|        train_file = \"/content/drive/MyDrive/SGL-Torch/dataset/yelp2018/yelp2018.train\"|' data/dataset.py"
      ],
      "metadata": {
        "id": "_q6SfJKSCN-u"
      },
      "execution_count": null,
      "outputs": []
    },
    {
      "cell_type": "code",
      "source": [
        "!sed -i '319s|.*|        test_file = \"/content/drive/MyDrive/SGL-Torch/dataset/yelp2018/yelp2018.test\"|' data/dataset.py\n"
      ],
      "metadata": {
        "id": "t13f_jBppHto"
      },
      "execution_count": null,
      "outputs": []
    },
    {
      "cell_type": "code",
      "source": [
        "!python main.py --dataset=yelp2018 --model=SGL --ssl_mode=aug --lr=0.001 --n_layers=2 --reg_weight=1e-4\n"
      ],
      "metadata": {
        "colab": {
          "base_uri": "https://localhost:8080/"
        },
        "id": "G4Y7D6rzpJaB",
        "outputId": "4dff8029-87c9-40e4-a6b1-92cfc717ec72"
      },
      "execution_count": null,
      "outputs": [
        {
          "output_type": "stream",
          "name": "stdout",
          "text": [
            "set pytorch seed\n",
            "/content/drive/MyDrive/SGL-Torch/data/dataset.py:317: UserWarning: XXXXXXXX/PythonProjects/SGL-torch/dataset/yelp2018/yelp2018.valid does not exist.\n",
            "  warnings.warn(\"%s does not exist.\" % valid_file)\n",
            "/content/drive/MyDrive/SGL-Torch/data/dataset.py:331: UserWarning: XXXXXXXX/PythonProjects/SGL-torch/dataset/yelp2018/yelp2018.user2id does not exist.\n",
            "  warnings.warn(\"%s does not exist.\" % user2id_file)\n",
            "/content/drive/MyDrive/SGL-Torch/data/dataset.py:339: UserWarning: XXXXXXXX/PythonProjects/SGL-torch/dataset/yelp2018/yelp2018.item2id does not exist.\n",
            "  warnings.warn(\"%s does not exist.\" % item2id_file)\n",
            "Item degree grouping...\n",
            "User degree grouping...\n",
            "Data loading finished\n",
            "2025-04-23 03:15:34.459: my pid: 2105\n",
            "2025-04-23 03:15:34.460: model: model.general_recommender.SGL\n",
            "2025-04-23 03:15:34.461: Dataset statistics:\n",
            "Name: yelp2018\n",
            "The number of users: 31668\n",
            "The number of items: 38048\n",
            "The number of ratings: 1561406\n",
            "Average actions of users: 49.31\n",
            "Average actions of items: 41.04\n",
            "The sparsity of the dataset: 99.870412%\n",
            "\n",
            "The number of training: 1237259\n",
            "The number of validation: 0\n",
            "The number of testing: 324147\n",
            "2025-04-23 03:15:34.462: NeuRec:[NeuRec]:\n",
            "recommender=SGL\n",
            "dataset=yelp2018\n",
            "file_column=UI\n",
            "sep=','\n",
            "gpu_id=0\n",
            "gpu_mem=0.99\n",
            "metric=[\"Precision\", \"Recall\", \"NDCG\"]\n",
            "top_k=[20]\n",
            "test_thread=8\n",
            "test_batch_size=128\n",
            "seed=2021\n",
            "start_testing_epoch=0\n",
            "\n",
            "SGL:[hyperparameters]:\n",
            "aug_type=ED\n",
            "reg=1e-4\n",
            "embed_size=64\n",
            "n_layers=2\n",
            "ssl_reg=0.1\n",
            "ssl_ratio=0.1\n",
            "ssl_temp=0.2\n",
            "ssl_mode=aug\n",
            "lr=0.001\n",
            "learner=adam\n",
            "adj_type=pre\n",
            "epochs=1000\n",
            "batch_size=2048\n",
            "num_negatives=1\n",
            "param_init=xavier_uniform\n",
            "stddev=0.01\n",
            "verbose=1\n",
            "stop_cnt=10\n",
            "pretrain_flag=0\n",
            "save_flag=0\n",
            "\n",
            "Command line:\n",
            "dataset=yelp2018\n",
            "model=SGL\n",
            "ssl_mode=aug\n",
            "lr=0.001\n",
            "n_layers=2\n",
            "reg_weight=1e-4\n",
            "create_adj_mat function cost: 0.139805s\n",
            "2025-04-23 03:15:41.541: metrics:\tPrecision@20\tRecall@20   \tNDCG@20     \n",
            "/content/drive/MyDrive/SGL-Torch/model/general_recommender/SGL.py:237: RuntimeWarning: divide by zero encountered in power\n",
            "  d_inv = np.power(rowsum, -0.5).flatten()\n",
            "create_adj_mat function cost: 0.842533s\n",
            "/content/drive/MyDrive/SGL-Torch/model/general_recommender/SGL.py:237: RuntimeWarning: divide by zero encountered in power\n",
            "  d_inv = np.power(rowsum, -0.5).flatten()\n",
            "create_adj_mat function cost: 0.848762s\n",
            "2025-04-23 03:18:22.102: [iter 1 : loss : 1.8208 = 0.6930 + 1.1278 + 0.0000, time: 160.554805]\n",
            "2025-04-23 03:18:28.826: epoch 1:\t0.00173833  \t0.00328536  \t0.00271882  \n",
            "2025-04-23 03:18:28.827: Find a better model.\n",
            "/content/drive/MyDrive/SGL-Torch/model/general_recommender/SGL.py:237: RuntimeWarning: divide by zero encountered in power\n",
            "  d_inv = np.power(rowsum, -0.5).flatten()\n",
            "create_adj_mat function cost: 0.838676s\n",
            "/content/drive/MyDrive/SGL-Torch/model/general_recommender/SGL.py:237: RuntimeWarning: divide by zero encountered in power\n",
            "  d_inv = np.power(rowsum, -0.5).flatten()\n",
            "create_adj_mat function cost: 0.879216s\n",
            "2025-04-23 03:21:10.350: [iter 2 : loss : 1.8190 = 0.6928 + 1.1262 + 0.0000, time: 161.497941]\n",
            "2025-04-23 03:21:15.773: epoch 2:\t0.00334569  \t0.00654285  \t0.00555988  \n",
            "2025-04-23 03:21:15.774: Find a better model.\n",
            "/content/drive/MyDrive/SGL-Torch/model/general_recommender/SGL.py:237: RuntimeWarning: divide by zero encountered in power\n",
            "  d_inv = np.power(rowsum, -0.5).flatten()\n",
            "create_adj_mat function cost: 1.124575s\n",
            "/content/drive/MyDrive/SGL-Torch/model/general_recommender/SGL.py:237: RuntimeWarning: divide by zero encountered in power\n",
            "  d_inv = np.power(rowsum, -0.5).flatten()\n",
            "create_adj_mat function cost: 0.910895s\n",
            "2025-04-23 03:23:59.055: [iter 3 : loss : 1.8185 = 0.6924 + 1.1261 + 0.0000, time: 163.247003]\n",
            "2025-04-23 03:24:05.698: epoch 3:\t0.00511411  \t0.01066822  \t0.00886361  \n",
            "2025-04-23 03:24:05.698: Find a better model.\n",
            "/content/drive/MyDrive/SGL-Torch/model/general_recommender/SGL.py:237: RuntimeWarning: divide by zero encountered in power\n",
            "  d_inv = np.power(rowsum, -0.5).flatten()\n",
            "create_adj_mat function cost: 0.866768s\n",
            "/content/drive/MyDrive/SGL-Torch/model/general_recommender/SGL.py:237: RuntimeWarning: divide by zero encountered in power\n",
            "  d_inv = np.power(rowsum, -0.5).flatten()\n",
            "create_adj_mat function cost: 0.852589s\n",
            "2025-04-23 03:26:48.633: [iter 4 : loss : 1.8172 = 0.6910 + 1.1262 + 0.0000, time: 162.908773]\n",
            "2025-04-23 03:26:53.769: epoch 4:\t0.00488199  \t0.01063437  \t0.00843995  \n",
            "/content/drive/MyDrive/SGL-Torch/model/general_recommender/SGL.py:237: RuntimeWarning: divide by zero encountered in power\n",
            "  d_inv = np.power(rowsum, -0.5).flatten()\n",
            "create_adj_mat function cost: 1.014614s\n",
            "/content/drive/MyDrive/SGL-Torch/model/general_recommender/SGL.py:237: RuntimeWarning: divide by zero encountered in power\n",
            "  d_inv = np.power(rowsum, -0.5).flatten()\n",
            "create_adj_mat function cost: 0.854743s\n",
            "2025-04-23 03:29:36.942: [iter 5 : loss : 1.8107 = 0.6833 + 1.1274 + 0.0000, time: 163.122218]\n",
            "2025-04-23 03:29:41.791: epoch 5:\t0.00875345  \t0.01950298  \t0.01596063  \n",
            "2025-04-23 03:29:41.791: Find a better model.\n",
            "/content/drive/MyDrive/SGL-Torch/model/general_recommender/SGL.py:237: RuntimeWarning: divide by zero encountered in power\n",
            "  d_inv = np.power(rowsum, -0.5).flatten()\n",
            "create_adj_mat function cost: 1.406217s\n",
            "/content/drive/MyDrive/SGL-Torch/model/general_recommender/SGL.py:237: RuntimeWarning: divide by zero encountered in power\n",
            "  d_inv = np.power(rowsum, -0.5).flatten()\n",
            "create_adj_mat function cost: 0.822938s\n",
            "2025-04-23 03:32:25.251: [iter 6 : loss : 1.7660 = 0.6305 + 1.1354 + 0.0001, time: 163.423080]\n",
            "2025-04-23 03:32:29.647: epoch 6:\t0.01744572  \t0.03801156  \t0.03181792  \n",
            "2025-04-23 03:32:29.647: Find a better model.\n",
            "/content/drive/MyDrive/SGL-Torch/model/general_recommender/SGL.py:237: RuntimeWarning: divide by zero encountered in power\n",
            "  d_inv = np.power(rowsum, -0.5).flatten()\n",
            "create_adj_mat function cost: 1.389496s\n",
            "/content/drive/MyDrive/SGL-Torch/model/general_recommender/SGL.py:237: RuntimeWarning: divide by zero encountered in power\n",
            "  d_inv = np.power(rowsum, -0.5).flatten()\n",
            "create_adj_mat function cost: 1.284429s\n",
            "2025-04-23 03:35:13.517: [iter 7 : loss : 1.6488 = 0.4951 + 1.1534 + 0.0004, time: 163.836637]\n",
            "2025-04-23 03:35:17.677: epoch 7:\t0.02676583  \t0.05840410  \t0.04822956  \n",
            "2025-04-23 03:35:17.677: Find a better model.\n",
            "/content/drive/MyDrive/SGL-Torch/model/general_recommender/SGL.py:237: RuntimeWarning: divide by zero encountered in power\n",
            "  d_inv = np.power(rowsum, -0.5).flatten()\n",
            "create_adj_mat function cost: 0.936114s\n",
            "/content/drive/MyDrive/SGL-Torch/model/general_recommender/SGL.py:237: RuntimeWarning: divide by zero encountered in power\n",
            "  d_inv = np.power(rowsum, -0.5).flatten()\n",
            "create_adj_mat function cost: 1.406785s\n",
            "2025-04-23 03:38:01.591: [iter 8 : loss : 1.4881 = 0.3105 + 1.1768 + 0.0008, time: 163.878903]\n",
            "2025-04-23 03:38:07.068: epoch 8:\t0.02787091  \t0.06119902  \t0.05046365  \n",
            "2025-04-23 03:38:07.068: Find a better model.\n",
            "/content/drive/MyDrive/SGL-Torch/model/general_recommender/SGL.py:237: RuntimeWarning: divide by zero encountered in power\n",
            "  d_inv = np.power(rowsum, -0.5).flatten()\n",
            "create_adj_mat function cost: 1.369966s\n",
            "/content/drive/MyDrive/SGL-Torch/model/general_recommender/SGL.py:237: RuntimeWarning: divide by zero encountered in power\n",
            "  d_inv = np.power(rowsum, -0.5).flatten()\n",
            "create_adj_mat function cost: 1.281780s\n",
            "2025-04-23 03:40:50.960: [iter 9 : loss : 1.3737 = 0.1890 + 1.1833 + 0.0013, time: 163.841578]\n",
            "2025-04-23 03:40:55.229: epoch 9:\t0.02846296  \t0.06273613  \t0.05176521  \n",
            "2025-04-23 03:40:55.230: Find a better model.\n",
            "/content/drive/MyDrive/SGL-Torch/model/general_recommender/SGL.py:237: RuntimeWarning: divide by zero encountered in power\n",
            "  d_inv = np.power(rowsum, -0.5).flatten()\n",
            "create_adj_mat function cost: 1.305399s\n",
            "/content/drive/MyDrive/SGL-Torch/model/general_recommender/SGL.py:237: RuntimeWarning: divide by zero encountered in power\n",
            "  d_inv = np.power(rowsum, -0.5).flatten()\n",
            "create_adj_mat function cost: 1.290645s\n",
            "2025-04-23 03:43:39.158: [iter 10 : loss : 1.3127 = 0.1335 + 1.1774 + 0.0018, time: 163.902813]\n",
            "2025-04-23 03:43:43.607: epoch 10:\t0.02897759  \t0.06438456  \t0.05289434  \n",
            "2025-04-23 03:43:43.607: Find a better model.\n",
            "/content/drive/MyDrive/SGL-Torch/model/general_recommender/SGL.py:237: RuntimeWarning: divide by zero encountered in power\n",
            "  d_inv = np.power(rowsum, -0.5).flatten()\n",
            "create_adj_mat function cost: 1.350494s\n",
            "/content/drive/MyDrive/SGL-Torch/model/general_recommender/SGL.py:237: RuntimeWarning: divide by zero encountered in power\n",
            "  d_inv = np.power(rowsum, -0.5).flatten()\n",
            "create_adj_mat function cost: 1.347164s\n",
            "2025-04-23 03:46:27.747: [iter 11 : loss : 1.2758 = 0.1037 + 1.1700 + 0.0022, time: 164.016933]\n",
            "2025-04-23 03:46:32.610: epoch 11:\t0.02927435  \t0.06517346  \t0.05351903  \n",
            "2025-04-23 03:46:32.610: Find a better model.\n",
            "/content/drive/MyDrive/SGL-Torch/model/general_recommender/SGL.py:237: RuntimeWarning: divide by zero encountered in power\n",
            "  d_inv = np.power(rowsum, -0.5).flatten()\n",
            "create_adj_mat function cost: 1.394275s\n",
            "/content/drive/MyDrive/SGL-Torch/model/general_recommender/SGL.py:237: RuntimeWarning: divide by zero encountered in power\n",
            "  d_inv = np.power(rowsum, -0.5).flatten()\n",
            "create_adj_mat function cost: 1.272307s\n",
            "2025-04-23 03:49:16.690: [iter 12 : loss : 1.2513 = 0.0852 + 1.1636 + 0.0025, time: 164.026764]\n",
            "2025-04-23 03:49:21.046: epoch 12:\t0.02939594  \t0.06549065  \t0.05379576  \n",
            "2025-04-23 03:49:21.047: Find a better model.\n",
            "/content/drive/MyDrive/SGL-Torch/model/general_recommender/SGL.py:237: RuntimeWarning: divide by zero encountered in power\n",
            "  d_inv = np.power(rowsum, -0.5).flatten()\n",
            "create_adj_mat function cost: 1.380353s\n",
            "/content/drive/MyDrive/SGL-Torch/model/general_recommender/SGL.py:237: RuntimeWarning: divide by zero encountered in power\n",
            "  d_inv = np.power(rowsum, -0.5).flatten()\n",
            "create_adj_mat function cost: 1.343273s\n",
            "2025-04-23 03:52:05.153: [iter 13 : loss : 1.2332 = 0.0719 + 1.1585 + 0.0028, time: 164.070638]\n",
            "2025-04-23 03:52:09.481: epoch 13:\t0.02952225  \t0.06568879  \t0.05389617  \n",
            "2025-04-23 03:52:09.482: Find a better model.\n",
            "/content/drive/MyDrive/SGL-Torch/model/general_recommender/SGL.py:237: RuntimeWarning: divide by zero encountered in power\n",
            "  d_inv = np.power(rowsum, -0.5).flatten()\n",
            "create_adj_mat function cost: 1.333353s\n",
            "/content/drive/MyDrive/SGL-Torch/model/general_recommender/SGL.py:237: RuntimeWarning: divide by zero encountered in power\n",
            "  d_inv = np.power(rowsum, -0.5).flatten()\n",
            "create_adj_mat function cost: 1.301611s\n",
            "2025-04-23 03:54:53.270: [iter 14 : loss : 1.2198 = 0.0622 + 1.1545 + 0.0031, time: 163.761920]\n",
            "2025-04-23 03:54:57.705: epoch 14:\t0.02941647  \t0.06529954  \t0.05378199  \n",
            "/content/drive/MyDrive/SGL-Torch/model/general_recommender/SGL.py:237: RuntimeWarning: divide by zero encountered in power\n",
            "  d_inv = np.power(rowsum, -0.5).flatten()\n",
            "create_adj_mat function cost: 1.020661s\n",
            "/content/drive/MyDrive/SGL-Torch/model/general_recommender/SGL.py:237: RuntimeWarning: divide by zero encountered in power\n",
            "  d_inv = np.power(rowsum, -0.5).flatten()\n",
            "create_adj_mat function cost: 1.407482s\n",
            "2025-04-23 03:57:41.580: [iter 15 : loss : 1.2091 = 0.0545 + 1.1512 + 0.0034, time: 163.844089]\n",
            "2025-04-23 03:57:46.015: epoch 15:\t0.02934225  \t0.06511394  \t0.05366965  \n",
            "/content/drive/MyDrive/SGL-Torch/model/general_recommender/SGL.py:237: RuntimeWarning: divide by zero encountered in power\n",
            "  d_inv = np.power(rowsum, -0.5).flatten()\n",
            "create_adj_mat function cost: 0.852124s\n",
            "/content/drive/MyDrive/SGL-Torch/model/general_recommender/SGL.py:237: RuntimeWarning: divide by zero encountered in power\n",
            "  d_inv = np.power(rowsum, -0.5).flatten()\n",
            "create_adj_mat function cost: 1.298096s\n",
            "2025-04-23 04:00:29.968: [iter 16 : loss : 1.2009 = 0.0487 + 1.1486 + 0.0037, time: 163.919408]\n",
            "2025-04-23 04:00:34.278: epoch 16:\t0.02938172  \t0.06520987  \t0.05368331  \n",
            "/content/drive/MyDrive/SGL-Torch/model/general_recommender/SGL.py:237: RuntimeWarning: divide by zero encountered in power\n",
            "  d_inv = np.power(rowsum, -0.5).flatten()\n",
            "create_adj_mat function cost: 0.812397s\n",
            "/content/drive/MyDrive/SGL-Torch/model/general_recommender/SGL.py:237: RuntimeWarning: divide by zero encountered in power\n",
            "  d_inv = np.power(rowsum, -0.5).flatten()\n",
            "create_adj_mat function cost: 1.080223s\n",
            "2025-04-23 04:03:18.205: [iter 17 : loss : 1.1943 = 0.0440 + 1.1464 + 0.0039, time: 163.893445]\n",
            "2025-04-23 04:03:22.474: epoch 17:\t0.02927753  \t0.06501105  \t0.05348611  \n",
            "/content/drive/MyDrive/SGL-Torch/model/general_recommender/SGL.py:237: RuntimeWarning: divide by zero encountered in power\n",
            "  d_inv = np.power(rowsum, -0.5).flatten()\n",
            "create_adj_mat function cost: 0.849058s\n",
            "/content/drive/MyDrive/SGL-Torch/model/general_recommender/SGL.py:237: RuntimeWarning: divide by zero encountered in power\n",
            "  d_inv = np.power(rowsum, -0.5).flatten()\n",
            "create_adj_mat function cost: 0.829259s\n",
            "2025-04-23 04:06:06.735: [iter 18 : loss : 1.1886 = 0.0400 + 1.1445 + 0.0042, time: 164.234607]\n",
            "2025-04-23 04:06:11.222: epoch 18:\t0.02907705  \t0.06445368  \t0.05311881  \n",
            "/content/drive/MyDrive/SGL-Torch/model/general_recommender/SGL.py:237: RuntimeWarning: divide by zero encountered in power\n",
            "  d_inv = np.power(rowsum, -0.5).flatten()\n",
            "create_adj_mat function cost: 0.908439s\n",
            "/content/drive/MyDrive/SGL-Torch/model/general_recommender/SGL.py:237: RuntimeWarning: divide by zero encountered in power\n",
            "  d_inv = np.power(rowsum, -0.5).flatten()\n",
            "create_adj_mat function cost: 0.898069s\n",
            "2025-04-23 04:08:55.667: [iter 19 : loss : 1.1840 = 0.0367 + 1.1429 + 0.0044, time: 164.412146]\n",
            "2025-04-23 04:09:00.103: epoch 19:\t0.02906915  \t0.06428448  \t0.05301300  \n",
            "/content/drive/MyDrive/SGL-Torch/model/general_recommender/SGL.py:237: RuntimeWarning: divide by zero encountered in power\n",
            "  d_inv = np.power(rowsum, -0.5).flatten()\n",
            "create_adj_mat function cost: 0.844081s\n",
            "/content/drive/MyDrive/SGL-Torch/model/general_recommender/SGL.py:237: RuntimeWarning: divide by zero encountered in power\n",
            "  d_inv = np.power(rowsum, -0.5).flatten()\n",
            "create_adj_mat function cost: 0.838053s\n",
            "2025-04-23 04:11:44.317: [iter 20 : loss : 1.1801 = 0.0339 + 1.1416 + 0.0046, time: 164.187619]\n",
            "2025-04-23 04:11:48.730: epoch 20:\t0.02895075  \t0.06401757  \t0.05277623  \n",
            "/content/drive/MyDrive/SGL-Torch/model/general_recommender/SGL.py:237: RuntimeWarning: divide by zero encountered in power\n",
            "  d_inv = np.power(rowsum, -0.5).flatten()\n",
            "create_adj_mat function cost: 0.817579s\n",
            "/content/drive/MyDrive/SGL-Torch/model/general_recommender/SGL.py:237: RuntimeWarning: divide by zero encountered in power\n",
            "  d_inv = np.power(rowsum, -0.5).flatten()\n",
            "create_adj_mat function cost: 0.796737s\n",
            "2025-04-23 04:14:32.530: [iter 21 : loss : 1.1766 = 0.0314 + 1.1404 + 0.0048, time: 163.767466]\n",
            "2025-04-23 04:14:36.906: epoch 21:\t0.02880711  \t0.06365546  \t0.05253770  \n",
            "/content/drive/MyDrive/SGL-Torch/model/general_recommender/SGL.py:237: RuntimeWarning: divide by zero encountered in power\n",
            "  d_inv = np.power(rowsum, -0.5).flatten()\n",
            "create_adj_mat function cost: 0.836638s\n",
            "/content/drive/MyDrive/SGL-Torch/model/general_recommender/SGL.py:237: RuntimeWarning: divide by zero encountered in power\n",
            "  d_inv = np.power(rowsum, -0.5).flatten()\n",
            "create_adj_mat function cost: 0.862410s\n",
            "2025-04-23 04:17:20.111: [iter 22 : loss : 1.1738 = 0.0294 + 1.1395 + 0.0050, time: 163.174494]\n",
            "2025-04-23 04:17:24.522: epoch 22:\t0.02869183  \t0.06339692  \t0.05231798  \n",
            "/content/drive/MyDrive/SGL-Torch/model/general_recommender/SGL.py:237: RuntimeWarning: divide by zero encountered in power\n",
            "  d_inv = np.power(rowsum, -0.5).flatten()\n",
            "create_adj_mat function cost: 0.794592s\n",
            "/content/drive/MyDrive/SGL-Torch/model/general_recommender/SGL.py:237: RuntimeWarning: divide by zero encountered in power\n",
            "  d_inv = np.power(rowsum, -0.5).flatten()\n",
            "create_adj_mat function cost: 0.781392s\n",
            "2025-04-23 04:20:07.293: [iter 23 : loss : 1.1713 = 0.0276 + 1.1386 + 0.0051, time: 162.737157]\n",
            "2025-04-23 04:20:11.899: epoch 23:\t0.02855766  \t0.06291636  \t0.05204201  \n",
            "2025-04-23 04:20:11.899: Early stopping is trigger at epoch: 23\n",
            "2025-04-23 04:20:11.899: best_result@epoch 13:\n",
            "\n",
            "2025-04-23 04:20:11.899: \t\t0.0295      \t0.0657      \t0.0539      \n"
          ]
        }
      ]
    }
  ]
}